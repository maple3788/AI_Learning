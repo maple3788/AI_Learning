{
 "cells": [
  {
   "metadata": {
    "ExecuteTime": {
     "end_time": "2025-09-30T12:55:36.497437Z",
     "start_time": "2025-09-30T12:55:36.495013Z"
    }
   },
   "cell_type": "code",
   "source": [
    "import math\n",
    "\n",
    "\n",
    "def get_alibi_slopes(nheads):\n",
    "    def get_slopes_power_of_2(nheads):\n",
    "        start = 2 ** (-(2 ** -(math.log2(nheads) - 3)))\n",
    "        ratio = start\n",
    "        return [start * ratio**i for i in range(nheads)]\n",
    "\n",
    "    if math.log2(nheads).is_integer():\n",
    "        return get_slopes_power_of_2(nheads)\n",
    "    else:\n",
    "        closest_power_of_2 = 2 ** math.floor(math.log2(nheads))\n",
    "        return (\n",
    "            get_slopes_power_of_2(closest_power_of_2)\n",
    "            + get_alibi_slopes(2 * closest_power_of_2)[0::2][: nheads - closest_power_of_2]\n",
    "        )\n",
    "\n",
    "\n",
    "print(get_alibi_slopes(6))"
   ],
   "id": "40caed61f20deaa",
   "outputs": [
    {
     "name": "stdout",
     "output_type": "stream",
     "text": [
      "[0.25, 0.0625, 0.015625, 0.00390625, 0.5, 0.125]\n"
     ]
    }
   ],
   "execution_count": 2
  },
  {
   "metadata": {},
   "cell_type": "code",
   "outputs": [],
   "execution_count": null,
   "source": "",
   "id": "b8013bdd2b9de5ac"
  }
 ],
 "metadata": {
  "kernelspec": {
   "display_name": "Python 3",
   "language": "python",
   "name": "python3"
  },
  "language_info": {
   "codemirror_mode": {
    "name": "ipython",
    "version": 2
   },
   "file_extension": ".py",
   "mimetype": "text/x-python",
   "name": "python",
   "nbconvert_exporter": "python",
   "pygments_lexer": "ipython2",
   "version": "2.7.6"
  }
 },
 "nbformat": 4,
 "nbformat_minor": 5
}
