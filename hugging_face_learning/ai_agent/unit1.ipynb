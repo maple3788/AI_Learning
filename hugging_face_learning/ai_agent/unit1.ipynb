{
 "cells": [
  {
   "cell_type": "code",
   "id": "initial_id",
   "metadata": {
    "collapsed": true,
    "ExecuteTime": {
     "end_time": "2025-10-05T01:46:26.541019Z",
     "start_time": "2025-10-05T01:46:24.919256Z"
    }
   },
   "source": [
    "from smolagents import LiteLLMModel\n",
    "\n",
    "model = LiteLLMModel(\n",
    "    model_id=\"ollama_chat/qwen2:7b\",  # Or try other Ollama-supported models\n",
    "    api_base=\"http://127.0.0.1:11434\",  # Default Ollama local server\n",
    "    num_ctx=8192,\n",
    ")"
   ],
   "outputs": [],
   "execution_count": 1
  },
  {
   "metadata": {
    "ExecuteTime": {
     "end_time": "2025-10-05T06:44:08.676476Z",
     "start_time": "2025-10-05T06:43:53.846486Z"
    }
   },
   "cell_type": "code",
   "source": [
    "from transformers import AutoTokenizer\n",
    "\n",
    "tokenizer = AutoTokenizer.from_pretrained(\"HuggingFaceTB/SmolLM2-1.7B-Instruct\")\n",
    "type(tokenizer)"
   ],
   "id": "ba67df43e16f15e6",
   "outputs": [
    {
     "data": {
      "text/plain": [
       "tokenizer_config.json: 0.00B [00:00, ?B/s]"
      ],
      "application/vnd.jupyter.widget-view+json": {
       "version_major": 2,
       "version_minor": 0,
       "model_id": "a4ed22c99992455e8757beac7ede6ec0"
      }
     },
     "metadata": {},
     "output_type": "display_data"
    },
    {
     "data": {
      "text/plain": [
       "vocab.json: 0.00B [00:00, ?B/s]"
      ],
      "application/vnd.jupyter.widget-view+json": {
       "version_major": 2,
       "version_minor": 0,
       "model_id": "2eaac606f5644e258a75d731fd2a60bb"
      }
     },
     "metadata": {},
     "output_type": "display_data"
    },
    {
     "data": {
      "text/plain": [
       "merges.txt: 0.00B [00:00, ?B/s]"
      ],
      "application/vnd.jupyter.widget-view+json": {
       "version_major": 2,
       "version_minor": 0,
       "model_id": "cba26d9fcc0540a08f5c7c26f23a794f"
      }
     },
     "metadata": {},
     "output_type": "display_data"
    },
    {
     "data": {
      "text/plain": [
       "tokenizer.json: 0.00B [00:00, ?B/s]"
      ],
      "application/vnd.jupyter.widget-view+json": {
       "version_major": 2,
       "version_minor": 0,
       "model_id": "5c1aa423ca2d4f5baef271eb55b6bb7f"
      }
     },
     "metadata": {},
     "output_type": "display_data"
    },
    {
     "data": {
      "text/plain": [
       "special_tokens_map.json:   0%|          | 0.00/655 [00:00<?, ?B/s]"
      ],
      "application/vnd.jupyter.widget-view+json": {
       "version_major": 2,
       "version_minor": 0,
       "model_id": "d71c29f369494d2985ec8a004299eaa9"
      }
     },
     "metadata": {},
     "output_type": "display_data"
    },
    {
     "data": {
      "text/plain": [
       "transformers.models.gpt2.tokenization_gpt2_fast.GPT2TokenizerFast"
      ]
     },
     "execution_count": 1,
     "metadata": {},
     "output_type": "execute_result"
    }
   ],
   "execution_count": 1
  },
  {
   "metadata": {
    "ExecuteTime": {
     "end_time": "2025-10-05T06:46:18.379105Z",
     "start_time": "2025-10-05T06:46:18.376686Z"
    }
   },
   "cell_type": "code",
   "source": [
    "rendered_prompt = tokenizer.apply_chat_template([\n",
    "    {\"role\": \"system\", \"content\": \"You are an AI assistant with access to various tools.\"},\n",
    "    {\"role\": \"user\", \"content\": \"Hi !\"},\n",
    "    {\"role\": \"system\", \"content\": \"Hi human, what can help you with?\"}\n",
    "], tokenize=False, add_generation_prompt=True)"
   ],
   "id": "705f7b7fbca01751",
   "outputs": [],
   "execution_count": 3
  },
  {
   "metadata": {
    "ExecuteTime": {
     "end_time": "2025-10-05T08:41:29.341240Z",
     "start_time": "2025-10-05T08:41:29.069772Z"
    }
   },
   "cell_type": "code",
   "source": [
    "from typing import Any, Optional\n",
    "from smolagents.tools import Tool\n",
    "import duckduckgo_search\n",
    "\n",
    "class DuckDuckGoSearchTool(Tool):\n",
    "    name = \"web_search\"\n",
    "    description = \"Performs a duckduckgo web search based on your query (think a Google search) then returns the top search results.\"\n",
    "    inputs = {'query': {'type': 'string', 'description': 'The search query to perform.'}}\n",
    "    output_type = \"string\"\n",
    "\n",
    "    def __init__(self, max_results=10, **kwargs):\n",
    "        super().__init__()\n",
    "        self.max_results = max_results\n",
    "        try:\n",
    "            from duckduckgo_search import DDGS\n",
    "        except ImportError as e:\n",
    "            raise ImportError(\n",
    "                \"You must install package `duckduckgo_search` to run this tool: for instance run `pip install duckduckgo-search`.\"\n",
    "            ) from e\n",
    "        self.ddgs = DDGS(**kwargs)\n",
    "\n",
    "    def forward(self, query: str) -> str:\n",
    "        results = self.ddgs.text(query, max_results=self.max_results)\n",
    "        if len(results) == 0:\n",
    "            raise Exception(\"No results found! Try a less restrictive/shorter query.\")\n",
    "        postprocessed_results = [f\"[{result['title']}]({result['href']})\\n{result['body']}\" for result in results]\n",
    "        return \"## Search Results\\n\\n\" + \"\\n\\n\".join(postprocessed_results)\n",
    "\n",
    "\n",
    "web_search = DuckDuckGoSearchTool()\n",
    "\n",
    "print(len(web_search(\"what time is it\")))\n"
   ],
   "id": "4da99c6d8b5b4db1",
   "outputs": [
    {
     "name": "stderr",
     "output_type": "stream",
     "text": [
      "/var/folders/56/_q1k7zs52t9997xq9ncxwdx00000gn/T/ipykernel_33165/979951228.py:20: RuntimeWarning: This package (`duckduckgo_search`) has been renamed to `ddgs`! Use `pip install ddgs` instead.\n",
      "  self.ddgs = DDGS(**kwargs)\n"
     ]
    },
    {
     "name": "stdout",
     "output_type": "stream",
     "text": [
      "[{'title': 'time - Proper Timezone Acronym Usage - PT vs PDT or PST', 'href': 'https://english.stackexchange.com/questions/88485/proper-timezone-acronym-usage-pt-vs-pdt-or-pst', 'body': 'Nov 16, 2021 · What is the difference between PT (Pacific Time), PDT (Pacific Daylight Time), and PST (Pacific Standard Time)? Also, is the time format \"2:00pm PT\" unambiguous?'}, {'title': 'What time or which time? - English Language & Usage Stack …', 'href': 'https://english.stackexchange.com/questions/493909/what-time-or-which-time', 'body': 'Apr 15, 2019 · What time tomorrow works best for you? (very open-ended) Going the opposite direction, \"what is your favorite hot beverage\" would be a different way to frame your first …'}, {'title': 'punctuation for time [colon vs full stop] | WordReference Forums', 'href': 'https://forum.wordreference.com/threads/punctuation-for-time-colon-vs-full-stop.2076421/', 'body': 'Feb 28, 2011 · I wonder if I can use full stop instead of colon when to say time. For example, I will arrive there at 14.25.( instead of at 14:25) Is it right?'}, {'title': 'time - English notation for hour, minutes and seconds - English ...', 'href': 'https://english.stackexchange.com/questions/114205/english-notation-for-hour-minutes-and-seconds', 'body': 'May 17, 2013 · From the time 01:00:00 to the time 02:34:56 is a duration of 1 hour, 34 minutes and 56 seconds (1h 34′ 56″) Prime markers start single and are multiplied for susbsequent …'}, {'title': '\"What time\" vs \"At what time\" - English Language & Usage Stack …', 'href': 'https://english.stackexchange.com/questions/298592/what-time-vs-at-what-time', 'body': 'Jan 9, 2016 · If I want ask my classmate at what exact time did he come to class, which question is correct? I don\\'t want to use \"When\". \"At what time did you come here?\" or \"What time did …'}, {'title': 'Is there any rule of order for time, date, place, building, etc?', 'href': 'https://english.stackexchange.com/questions/178620/is-there-any-rule-of-order-for-time-date-place-building-etc', 'body': \"Jun 18, 2014 · I would like to meet you at 5pm this Sunday in KFC on the first floor in USA Shopping center. There are two things about this sentence. It's overly complicated for me. The …\"}, {'title': '\"Time zone\" vs. \"Timezone\" - English Language & Usage Stack …', 'href': 'https://english.stackexchange.com/questions/3934/time-zone-vs-timezone', 'body': 'Oct 11, 2010 · There seem to be three spellings: timezone, time-zone, and time zone. The Oxford English Dictionary defines time-zone, [^1] but curiously, also uses the time zone spelling. [^2] …'}, {'title': \"2 years time / 2 years' time - WordReference Forums\", 'href': 'https://forum.wordreference.com/threads/2-years-time-2-years-time.1607576/', 'body': \"Nov 20, 2009 · Hello!! Which of the two options is the correct one? - I'll visit you in 2 years time. - I'll visit you in 2 years' time. Is the possessive 's necessary? Thanks!!\"}, {'title': 'Do you know what time it is / is it? | WordReference Forums', 'href': 'https://forum.wordreference.com/threads/do-you-know-what-time-it-is-is-it.1510033/', 'body': 'Aug 27, 2009 · I was wondering which would be the correct way to say this. Do you know what time is it? Do you know what time it is? Thank you.'}, {'title': 'What is the difference between \"at this time\", \"on this time\" and \"at ...', 'href': 'https://english.stackexchange.com/questions/399313/what-is-the-difference-between-at-this-time-on-this-time-and-at-the-moment', 'body': 'Jul 11, 2017 · For example: Mike isn\\'t at home at the moment. Can I use \"at this time\" or \"on this time\" in this situation? What is the difference between them?'}]\n",
      "3353\n"
     ]
    }
   ],
   "execution_count": 11
  },
  {
   "metadata": {},
   "cell_type": "code",
   "outputs": [],
   "execution_count": null,
   "source": "",
   "id": "3fc79acf9244d566"
  }
 ],
 "metadata": {
  "kernelspec": {
   "display_name": "Python 3",
   "language": "python",
   "name": "python3"
  },
  "language_info": {
   "codemirror_mode": {
    "name": "ipython",
    "version": 2
   },
   "file_extension": ".py",
   "mimetype": "text/x-python",
   "name": "python",
   "nbconvert_exporter": "python",
   "pygments_lexer": "ipython2",
   "version": "2.7.6"
  }
 },
 "nbformat": 4,
 "nbformat_minor": 5
}
