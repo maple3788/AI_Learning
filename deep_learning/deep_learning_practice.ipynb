{
 "cells": [
  {
   "metadata": {},
   "cell_type": "markdown",
   "source": "# How does a neural net really work?",
   "id": "1ae424a13fd361ff"
  },
  {
   "metadata": {},
   "cell_type": "code",
   "source": [
    "from ipywidgets import interact\n",
    "from fastai.basics import *\n",
    "import matplotlib.pyplot as plt\n",
    "import torch\n",
    "\n",
    "plt.rc('figure', dpi=90)\n",
    "\n",
    "\n",
    "def plot_function(f, title=None, min=-2.1, max=2.1, color='r', ylim=None):\n",
    "    x = torch.linspace(min, max, 100)[:, None]\n",
    "    if ylim: plt.ylim(ylim)\n",
    "    plt.plot(x, f(x), color)\n",
    "    if title is not None: plt.title(title)"
   ],
   "id": "7c92b47a7746e0c",
   "outputs": [],
   "execution_count": null
  },
  {
   "cell_type": "code",
   "id": "initial_id",
   "metadata": {
    "collapsed": true
   },
   "source": [
    "def f(x): return 3 * x ** 2 + 2 * x + 1\n",
    "\n",
    "\n",
    "plot_function(f, \"$3x^2 + 2x + 1$\")"
   ],
   "outputs": [],
   "execution_count": null
  },
  {
   "metadata": {},
   "cell_type": "code",
   "source": [
    "def quad(a, b, c, x): return a * x ** 2 + b * x + c\n",
    "\n",
    "\n",
    "def mk_quad(a, b, c): return partial(quad, a, b, c)"
   ],
   "id": "eebd4ea035f74475",
   "outputs": [],
   "execution_count": null
  },
  {
   "metadata": {},
   "cell_type": "code",
   "source": [
    "def noise(x, scale): return np.random.normal(scale=scale, size=x.shape)\n",
    "\n",
    "\n",
    "def add_noise(x, mult, add): return x * (1 + noise(x, mult)) + noise(x, add)"
   ],
   "id": "773fff3aaf89e0d0",
   "outputs": [],
   "execution_count": null
  },
  {
   "metadata": {},
   "cell_type": "code",
   "source": [
    "np.random.seed(42)\n",
    "\n",
    "x = torch.linspace(-2, 2, steps=20)[:, None]\n",
    "y = add_noise(f(x), 0.15, 1.5)"
   ],
   "id": "48cbcf1214eadead",
   "outputs": [],
   "execution_count": null
  },
  {
   "metadata": {},
   "cell_type": "code",
   "source": "plt.scatter(x, y);",
   "id": "35d4bde359011b8c",
   "outputs": [],
   "execution_count": null
  },
  {
   "metadata": {},
   "cell_type": "code",
   "source": [
    "@interact(a=1.1, b=1.1, c=1.1)\n",
    "def plot_quad(a, b, c):\n",
    "    plt.scatter(x, y)\n",
    "    plot_function(mk_quad(a, b, c), ylim=(-3, 13))"
   ],
   "id": "f59858338f910f2",
   "outputs": [],
   "execution_count": null
  },
  {
   "metadata": {},
   "cell_type": "code",
   "source": "def mae(preds, acts): return (torch.abs(preds - acts)).mean()",
   "id": "7f5795ec5b90cccb",
   "outputs": [],
   "execution_count": null
  },
  {
   "metadata": {},
   "cell_type": "code",
   "source": [
    "@interact(a=1.1, b=1.1, c=1.1)\n",
    "def plot_quad(a, b, c):\n",
    "    f = mk_quad(a, b, c)\n",
    "    plt.scatter(x, y)\n",
    "    loss = mae(f(x), y)\n",
    "    plot_function(f, ylim=(-3, 12), title=f\"MAE: {loss:.2f}\")"
   ],
   "id": "ea35079644ea8fd4",
   "outputs": [],
   "execution_count": null
  },
  {
   "metadata": {},
   "cell_type": "code",
   "source": [
    "def quad_mae(params):\n",
    "    f = mk_quad(*params)\n",
    "    return mae(f(x), y)"
   ],
   "id": "fb642bc574022910",
   "outputs": [],
   "execution_count": null
  },
  {
   "metadata": {},
   "cell_type": "code",
   "source": "quad_mae([1.1, 1.1, 1.1])",
   "id": "9d07ff2069546aa3",
   "outputs": [],
   "execution_count": null
  },
  {
   "metadata": {},
   "cell_type": "code",
   "source": [
    "abc = torch.tensor([1.1, 1.1, 1.1])\n",
    "abc.requires_grad_()"
   ],
   "id": "2f8953bba9fea792",
   "outputs": [],
   "execution_count": null
  },
  {
   "metadata": {},
   "cell_type": "code",
   "source": [
    "loss = quad_mae(abc)\n",
    "loss"
   ],
   "id": "ed32e48726cece56",
   "outputs": [],
   "execution_count": null
  },
  {
   "metadata": {},
   "cell_type": "code",
   "source": "loss.backward()",
   "id": "a9207376060b76b6",
   "outputs": [],
   "execution_count": null
  },
  {
   "metadata": {},
   "cell_type": "code",
   "source": [
    "def rectified_linear(m, b, x):\n",
    "    y = m * x + b\n",
    "    return torch.clip(y, 0.)"
   ],
   "id": "12e730f23a080cf1",
   "outputs": [],
   "execution_count": null
  },
  {
   "metadata": {},
   "cell_type": "code",
   "source": [
    "# Lecture 5\n",
    "import torch\n",
    "\n",
    "torch.manual_seed(123)\n",
    "test = torch.rand(5, 3)\n",
    "test2 = torch.rand(3)\n",
    "print((test * test2).sum(dim=1))\n",
    "print((test @ test2[:, None]))\n"
   ],
   "id": "b6579c2779307c81",
   "outputs": [],
   "execution_count": null
  },
  {
   "metadata": {},
   "cell_type": "code",
   "source": [
    "from numpy import random\n",
    "n = 100\n",
    "idxs = random.choice(n, 75)\n",
    "print(idxs)"
   ],
   "id": "a0343684f132ef25",
   "outputs": [],
   "execution_count": null
  },
  {
   "metadata": {},
   "cell_type": "code",
   "outputs": [],
   "execution_count": null,
   "source": "",
   "id": "e946af294d85cee"
  }
 ],
 "metadata": {
  "kernelspec": {
   "display_name": "Python 3",
   "language": "python",
   "name": "python3"
  },
  "language_info": {
   "codemirror_mode": {
    "name": "ipython",
    "version": 2
   },
   "file_extension": ".py",
   "mimetype": "text/x-python",
   "name": "python",
   "nbconvert_exporter": "python",
   "pygments_lexer": "ipython2",
   "version": "2.7.6"
  }
 },
 "nbformat": 4,
 "nbformat_minor": 5
}
