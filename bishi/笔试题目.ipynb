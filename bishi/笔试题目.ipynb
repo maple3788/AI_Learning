{
 "cells": [
  {
   "cell_type": "markdown",
   "metadata": {},
   "source": [
    "#### 问题1： 编辑字符串的最少插入和删除次数\n",
    "**问题描述:** 给定两个字符串 s1 和 s2，你需要将 s1 转换为 s2。你可以执行以下两种操作：\n",
    "\n",
    "1. 插入：在字符串 s1 的任意位置插入一个字符。\n",
    "2. 删除：删除字符串 s1 中的某个字符。\n",
    "\n",
    "请编写一个函数，计算将 s1 转换为 s2 所需的最少操作次数。\n",
    "\n",
    "**要求：**\n",
    "\n",
    "请使用动态规划实现该算法。\n",
    "时间复杂度要求为 O(m * n)，其中 m 和 n 分别是两个字符串的长度。\n",
    "空间复杂度不应高于 O(m * n)。"
   ]
  },
  {
   "cell_type": "code",
   "execution_count": 10,
   "metadata": {
    "ExecuteTime": {
     "end_time": "2025-10-09T09:54:32.978455Z",
     "start_time": "2025-10-09T09:54:32.973143Z"
    }
   },
   "outputs": [],
   "source": [
    "def min_operations(s1: str, s2: str) -> int:\n",
    "    s1_len = len(s1)\n",
    "    s2_len = len(s2)\n",
    "\n",
    "    dp = [[0] * (s2_len + 1) for _ in range(s1_len + 1)]\n",
    "    for i in range(1, s1_len + 1):\n",
    "        for j in range(1, s2_len + 1):\n",
    "            if s1[i - 1] == s2[j - 1]:\n",
    "                dp[i][j] = dp[i - 1][j - 1] + 1\n",
    "            else:\n",
    "                dp[i][j] = max(dp[i - 1][j], dp[i][j - 1])\n",
    "    longest_len = dp[s1_len][s2_len]\n",
    "    return s1_len - longest_len + s2_len - longest_len\n"
   ]
  },
  {
   "cell_type": "markdown",
   "metadata": {},
   "source": [
    "#### 问题2：使用牛顿迭代法求解平方根\n",
    "\n",
    "**问题描述:** 使用牛顿迭代法（Newton-Raphson method）编写一个 Python 函数，计算给定正数的平方根。\n",
    "\n",
    "你需要按照牛顿迭代法的思想，完成以下函数的实现, 并求解 $\\sqrt{3}$ 的近似值。\n",
    "\n",
    "**牛顿迭代法原理：**\n",
    "\n",
    "牛顿法用于求解非线性方程 $f(x) = 0$。给定一个初始猜测值 x_0， 牛顿法使用以下迭代公式：\n",
    "\n",
    "$X_{n+1} = X_n - \\frac{f(X_n)}{f'(X_n)}$\n",
    "\n",
    "\n"
   ]
  },
  {
   "cell_type": "code",
   "execution_count": 17,
   "metadata": {
    "ExecuteTime": {
     "end_time": "2025-10-09T10:03:41.788693Z",
     "start_time": "2025-10-09T10:03:41.785473Z"
    }
   },
   "outputs": [
    {
     "name": "stdout",
     "output_type": "stream",
     "text": [
      "1.7320508075688772\n"
     ]
    }
   ],
   "source": [
    "def sqrt_newton(num: float, tolerance: float = 1e-10, max_iterations: int = 1000) -> float:\n",
    "    if num == 0:\n",
    "        return 0\n",
    "    assert num >= 0, \"num只能为正数\"\n",
    "    init_num = num / 2.0\n",
    "    for _ in range(max_iterations):\n",
    "        next_num = (init_num + num / init_num) / 2\n",
    "        if abs(next_num - init_num) < tolerance:\n",
    "            return next_num\n",
    "        init_num = next_num\n",
    "    else:\n",
    "        return init_num\n",
    "\n",
    "result = sqrt_newton(3)\n",
    "print(result)"
   ]
  },
  {
   "cell_type": "markdown",
   "metadata": {},
   "source": [
    "#### 问题3：基于贝叶斯定理的航空发动机故障检测问题\n",
    "**问题描述:** \n",
    "\n",
    "某航空发动机的轴承故障率（先验概率）为 2%。现在有一个检测手段，它的性能如下：\n",
    "\n",
    "真阳性率（检测准确发现故障率）：95%\n",
    "假阳性率（错误检测出故障的概率）：3%\n",
    "\n",
    "**问题A：**\n",
    "给定一架飞机的检测结果是阳性，请使用贝叶斯定理计算他实际上患病的概率（即真实阳性率）。\n",
    "\n",
    "**问题B：**\n",
    "假设经过多次检测，每架发动机会被检测两次，并且两次检测结果相互独立。假设检测系统在某架发动机上的两次检测结果均为阳性。请计算该发动机真正有故障的概率。\n",
    "\n",
    "\n",
    "**贝叶斯定理：**\n",
    "\n",
    "$$\n",
    "P(A|B) = \\frac{P(B|A) * P(A)}{P(B)}\n",
    "$$\n",
    "\n",
    "A为事件A发生的概率，B为事件B发生的概率。\n",
    "\n",
    "\n",
    "PS: 可以使用markdown格式或手写解答此问题，无需编写代码。"
   ]
  },
  {
   "cell_type": "markdown",
   "metadata": {},
   "source": [
    "##### Answer:\n",
    "设事件A为**发动机故障**，事件B为**检测准确发现故障**\n",
    "\n",
    "问题A: \n",
    "$$\n",
    "P(A) = 0.02, P(\\neg A) = 0.98\n",
    "$$\n",
    "$$\n",
    "P(B|A) = 0.95, P(B|\\neg A) = 0.03\n",
    "$$\n",
    "$$\n",
    "P(B) = P(B|A)P(A) + P(B|\\neg A)P(\\neg A)\n",
    "$$\n",
    "因此 \n",
    "$$\n",
    "P(B) = 0.95 \\times 0.02 + 0.03 \\times 0.98 = 0.0484\n",
    "$$\n",
    "最后带入贝叶斯可得\n",
    "$$\n",
    "P(A|B) = \\frac{0.95 \\times 0.02}{0.0484} = 0.39256198\n",
    "$$\n",
    "---\n",
    "问题B:\n",
    "\n",
    "设事件C为**两次检测结果准确发现故障**，由于两次检测相互独立，因此两次检测结果均为阳性的概率:\n",
    "$$\n",
    "P(C|A) = 0.95 \\times 0.95 = 0.9025\n",
    "$$\n",
    "根据贝叶斯方程，以及 $P(C) = P(C|A)P(A) + P(C|A)P(\\neg A)$ 可将公式写为:\n",
    "$$\n",
    "P(A|C) = \\frac{P(C|A)P(A)}{P(C|A)P(A) + P(C|\\neg A)P(\\neg A)}\n",
    "$$\n",
    "带入可得:\n",
    "$$\n",
    "\\begin{aligned}\n",
    "P(A|C) &= \\frac{0.9025 \\times 0.02}{0.9025 \\times 0.02 + 0.0009 \\times 0.98} \\\\\n",
    "&= \\frac{0.01805}{0.018932} = 0.95341221\n",
    "\\end{aligned}\n",
    "$$"
   ]
  }
 ],
 "metadata": {
  "kernelspec": {
   "display_name": "base",
   "language": "python",
   "name": "python3"
  },
  "language_info": {
   "codemirror_mode": {
    "name": "ipython",
    "version": 3
   },
   "file_extension": ".py",
   "mimetype": "text/x-python",
   "name": "python",
   "nbconvert_exporter": "python",
   "pygments_lexer": "ipython3",
   "version": "3.13.5"
  }
 },
 "nbformat": 4,
 "nbformat_minor": 2
}
