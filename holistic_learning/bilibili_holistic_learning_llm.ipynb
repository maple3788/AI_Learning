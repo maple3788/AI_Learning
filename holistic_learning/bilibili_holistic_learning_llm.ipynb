{
 "cells": [
  {
   "metadata": {},
   "cell_type": "markdown",
   "source": "# LLM practice",
   "id": "7c068df937a91aff"
  },
  {
   "cell_type": "code",
   "id": "initial_id",
   "metadata": {
    "collapsed": true
   },
   "source": [
    "from dotenv import load_dotenv\n",
    "import os\n",
    "\n",
    "load_dotenv()\n",
    "os.getenv(\"HUGGING_FACE_KEY\")"
   ],
   "outputs": [],
   "execution_count": null
  },
  {
   "metadata": {},
   "cell_type": "code",
   "source": [
    "from ollama import chat\n",
    "from ollama import ChatResponse\n",
    "\n",
    "local_llm = \"llama3.2:latest\"\n",
    "# response: ChatResponse = chat(model=local_llm, messages=[\n",
    "#     {\n",
    "#         'role': 'user',\n",
    "#         'content': 'Why is the sky blue?',\n",
    "#     },\n",
    "# ])\n",
    "# print(response['message']['content'])\n",
    "# or access fields directly from the response object\n",
    "# print(response.message.content)\n",
    "def generate_responses(prompt):\n",
    "    response: ChatResponse = chat(model=local_llm,\n",
    "                                  messages=[\n",
    "                                      {\"role\": \"system\",\n",
    "                                       \"content\": \"You are a helpful assistant who provides information\"},\n",
    "                                      {\"role\": \"user\", \"content\": prompt},\n",
    "                                  ],\n",
    "                                  )\n",
    "    return response.message.content"
   ],
   "id": "b02d668994874a64",
   "outputs": [],
   "execution_count": null
  },
  {
   "metadata": {},
   "cell_type": "code",
   "source": [
    "# model = \"gpt-4-1106-preview\"\n",
    "# prompt = \"tell me about monash university malaysia compare with monash university clayton\"\n",
    "# def generate_responses(prompt):\n",
    "#     response = client.chat.completions.create(\n",
    "#         model = model,\n",
    "#         messages = [\n",
    "#             {\"role\": \"system\", \"content\": \"You are a helpful assistant who provides information\"},\n",
    "#             {\"role\": \"user\", \"content\": prompt},\n",
    "#         ],\n",
    "#         temperature=0.9,\n",
    "#     )\n",
    "#     return response.choices[0].message.content"
   ],
   "id": "dd906b5fddbb7523",
   "outputs": [],
   "execution_count": null
  },
  {
   "metadata": {
    "ExecuteTime": {
     "end_time": "2025-07-23T14:41:25.299258Z",
     "start_time": "2025-07-23T14:41:23.245460Z"
    }
   },
   "cell_type": "code",
   "source": [
    "prompt = \"\"\"\n",
    "Classify the text into neutral, negative or positive.\n",
    "Text: I think the vacation is okay.\n",
    "Sentiment:\n",
    "\"\"\"\n",
    "response = generate_responses(prompt)\n",
    "print(response)"
   ],
   "id": "a25accad986c143e",
   "outputs": [
    {
     "name": "stdout",
     "output_type": "stream",
     "text": [
      "The sentiment of the text can be classified as:\n",
      "\n",
      "Neutral\n",
      "\n",
      "The word \"okay\" is a neutral term that doesn't convey a strong positive or negative emotion. It suggests that the vacation is unremarkable or middling, but doesn't express any enthusiasm or dissatisfaction.\n"
     ]
    }
   ],
   "execution_count": 15
  }
 ],
 "metadata": {
  "kernelspec": {
   "display_name": "Python 3",
   "language": "python",
   "name": "python3"
  },
  "language_info": {
   "codemirror_mode": {
    "name": "ipython",
    "version": 2
   },
   "file_extension": ".py",
   "mimetype": "text/x-python",
   "name": "python",
   "nbconvert_exporter": "python",
   "pygments_lexer": "ipython2",
   "version": "2.7.6"
  }
 },
 "nbformat": 4,
 "nbformat_minor": 5
}
